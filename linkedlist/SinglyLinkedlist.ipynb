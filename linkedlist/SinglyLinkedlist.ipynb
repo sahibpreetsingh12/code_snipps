{
  "nbformat": 4,
  "nbformat_minor": 0,
  "metadata": {
    "colab": {
      "name": "SinglyLinkedlist.ipynb",
      "provenance": []
    },
    "kernelspec": {
      "name": "python3",
      "display_name": "Python 3"
    }
  },
  "cells": [
    {
      "cell_type": "markdown",
      "metadata": {
        "id": "fIGYRUzsyidf",
        "colab_type": "text"
      },
      "source": [
        "## Create Link List\n",
        "\n",
        "and Adding nodes at tthhe end of Linked List"
      ]
    },
    {
      "cell_type": "code",
      "metadata": {
        "id": "2BxfE_A7xdqt",
        "colab_type": "code",
        "colab": {
          "base_uri": "https://localhost:8080/",
          "height": 68
        },
        "outputId": "da61fc65-ebb1-4f35-f8e3-400be226bc75"
      },
      "source": [
        "#create nodes\n",
        "#create linked list\n",
        "# Add nodes to link list\n",
        "#print linked list\n",
        "\n",
        "class Node:\n",
        "  def __init__(self, data):\n",
        "    self.data = data\n",
        "    self.next = None\n",
        "\n",
        "class LinkedList:\n",
        "  def __init__(self):\n",
        "    self.head = None\n",
        "\n",
        "  def insert(self, newNode):\n",
        "    # head => John -> None\n",
        "    if self.head is None:\n",
        "      self.head = newNode\n",
        "    else:\n",
        "      # Head => John -> Ben -> None\n",
        "      lastNode = self.head\n",
        "      while True:\n",
        "        if lastNode.next is None:\n",
        "          break\n",
        "        lastNode = lastNode.next\n",
        "      lastNode.next = newNode\n",
        "  def printList(self):\n",
        "    # head=>john->Ben->Mathew->None\n",
        "    if self.head is None:\n",
        "      print('List is Empty')\n",
        "      return\n",
        "    currentNode = self.head\n",
        "    while True:\n",
        "      if currentNode is None:\n",
        "        break\n",
        "      print(currentNode.data)\n",
        "      currentNode = currentNode.next\n",
        "\n",
        "# Node => data, next\n",
        "#creating an object for node class\n",
        "# firstnode.data => john firstNode.next => None\n",
        "firstNode = Node('John')\n",
        "linkedList = LinkedList()\n",
        "linkedList.insert(firstNode)\n",
        "secondNode = Node('Ben')\n",
        "linkedList.insert(secondNode)\n",
        "thirdNode = Node('Mathew')\n",
        "linkedList.insert(thirdNode)\n",
        "\n",
        "linkedList.printList()"
      ],
      "execution_count": 1,
      "outputs": [
        {
          "output_type": "stream",
          "text": [
            "John\n",
            "Ben\n",
            "Mathew\n"
          ],
          "name": "stdout"
        }
      ]
    },
    {
      "cell_type": "markdown",
      "metadata": {
        "id": "cLBuTFDwxqBR",
        "colab_type": "text"
      },
      "source": [
        "## Insert As Head Node"
      ]
    },
    {
      "cell_type": "code",
      "metadata": {
        "id": "HWQd669rkonR",
        "colab_type": "code",
        "colab": {
          "base_uri": "https://localhost:8080/",
          "height": 68
        },
        "outputId": "1aaef0c5-f5ce-4b67-8c1a-7345d51b4b78"
      },
      "source": [
        "#create nodes\n",
        "#create linked list\n",
        "# Add nodes to link list\n",
        "#print linked list\n",
        "\n",
        "class Node:\n",
        "  def __init__(self, data):\n",
        "    self.data = data\n",
        "    self.next = None\n",
        "\n",
        "class LinkedList:\n",
        "  def __init__(self):\n",
        "    self.head = None\n",
        "\n",
        "  def insertHead(self,NewNode):\n",
        "    temporaryNode=self.head #store initial head node in temporary Node\n",
        "    self.head=NewNode # saving newnode as headnode\n",
        "    self.head.next=temporaryNode #next of newhead node poinitng to initial head node\n",
        "\n",
        "  def insert(self, newNode):\n",
        "    # head => John -> None\n",
        "    if self.head is None:\n",
        "      self.head = newNode\n",
        "    else:\n",
        "      # Head => John -> Ben -> None\n",
        "      lastNode = self.head\n",
        "      while True:\n",
        "        if lastNode.next is None:\n",
        "          break\n",
        "        lastNode = lastNode.next\n",
        "      lastNode.next = newNode\n",
        "  def printList(self):\n",
        "    # head=>john->Ben->Mathew->None\n",
        "    if self.head is None:\n",
        "      print('List is Empty')\n",
        "      return\n",
        "    currentNode = self.head\n",
        "    while True:\n",
        "      if currentNode is None:\n",
        "        break\n",
        "      print(currentNode.data)\n",
        "      currentNode = currentNode.next\n",
        "\n",
        "# Node => data, next\n",
        "#creating an object for node class\n",
        "# firstnode.data => john firstNode.next => None\n",
        "firstNode = Node('John')\n",
        "linkedList = LinkedList()\n",
        "linkedList.insert(firstNode)\n",
        "secondNode = Node('Ben')\n",
        "linkedList.insert(secondNode)\n",
        "thirdNode = Node('Mathew')\n",
        "linkedList.insertHead(thirdNode)\n",
        "\n",
        "linkedList.printList()"
      ],
      "execution_count": 2,
      "outputs": [
        {
          "output_type": "stream",
          "text": [
            "Mathew\n",
            "John\n",
            "Ben\n"
          ],
          "name": "stdout"
        }
      ]
    }
  ]
}